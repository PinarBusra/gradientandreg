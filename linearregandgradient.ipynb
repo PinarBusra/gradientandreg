{
 "cells": [
  {
   "cell_type": "code",
   "execution_count": 10,
   "metadata": {},
   "outputs": [
    {
     "name": "stdout",
     "output_type": "stream",
     "text": [
      "(array([80.71615999]), array([1.00038069, 2.99976419, 1.99962806, 3.9999718 ]))\n",
      "[5.01686040e+00 2.67043273e+04 2.73418671e+04 2.68962302e+04\n",
      " 2.85426179e+04]\n"
     ]
    }
   ],
   "source": [
    "import pandas as pd\n",
    "import matplotlib.pyplot as plt\n",
    "from sklearn import linear_model\n",
    "from sklearn.linear_model import LinearRegression\n",
    "import numpy as np\n",
    "data=pd.read_csv(r\"C:\\Users\\pinarbusra\\Downloads\\DATA.csv\")\n",
    "def predict(X,Y):\n",
    "    regr = linear_model.LinearRegression(normalize=True)\n",
    "    regr.fit(X, Y)\n",
    "    Xnew=[[1,2,3,4]]\n",
    "    Ypred=regr.predict(Xnew)\n",
    "    return Ypred,regr.coef_\n",
    "def gradient_descent(X, Y, B, alpha, iterations):\n",
    "    m = len(Y)\n",
    "    for iteration in range(iterations):\n",
    "        h = X.dot(B)\n",
    "        loss = h - Y\n",
    "        gradient = X.T.dot(loss) / m\n",
    "        B = B - alpha * gradient\n",
    "        return B\n",
    "    \n",
    "X = data[['f1','f2','f3','f4']] \n",
    "Y = data['y']\n",
    "print(predict(X,Y))\n",
    "f1 = data['f1'].values\n",
    "f2 = data['f2'].values\n",
    "f3 = data['f3'].values\n",
    "f4=data['f4'].values\n",
    "y=data['y'].values\n",
    "m = len(f1)\n",
    "x0 = np.ones(m)\n",
    "X = np.array([x0, f1,f2,f3,f4]).T\n",
    "B = np.array([0,0,0,0,0])\n",
    "Y = np.array(y)\n",
    "alpha = 0.0001\n",
    "print(gradient_descent(X,Y,B,alpha,100000))\n",
    "\n",
    "\n",
    "\n",
    "    \n"
   ]
  },
  {
   "cell_type": "code",
   "execution_count": null,
   "metadata": {},
   "outputs": [],
   "source": []
  }
 ],
 "metadata": {
  "kernelspec": {
   "display_name": "Python 3",
   "language": "python",
   "name": "python3"
  },
  "language_info": {
   "codemirror_mode": {
    "name": "ipython",
    "version": 3
   },
   "file_extension": ".py",
   "mimetype": "text/x-python",
   "name": "python",
   "nbconvert_exporter": "python",
   "pygments_lexer": "ipython3",
   "version": "3.7.3"
  }
 },
 "nbformat": 4,
 "nbformat_minor": 2
}
